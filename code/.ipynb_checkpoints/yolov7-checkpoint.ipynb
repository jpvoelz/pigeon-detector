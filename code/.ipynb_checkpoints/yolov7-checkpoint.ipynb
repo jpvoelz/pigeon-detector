{
 "cells": [
  {
   "cell_type": "code",
   "execution_count": 3,
   "metadata": {
    "id": "IgAXoZ6eAIAh"
   },
   "outputs": [],
   "source": [
    "import os\n",
    "import torch\n",
    "import random\n",
    "import shutil\n",
    "from simple_image_download import simple_image_download as simp\n",
    "from sklearn.model_selection import train_test_split\n",
    "from xml.dom import minidom\n",
    "from tqdm import tqdm\n",
    "import numpy as np\n",
    "import matplotlib.pyplot as plt\n",
    "from contextlib import redirect_stdout\n",
    "from helper_functions import *"
   ]
  },
  {
   "cell_type": "code",
   "execution_count": null,
   "metadata": {
    "colab": {
     "base_uri": "https://localhost:8080/"
    },
    "executionInfo": {
     "elapsed": 6118,
     "status": "ok",
     "timestamp": 1678309325270,
     "user": {
      "displayName": "Joule Voelz",
      "userId": "03319013223552874885"
     },
     "user_tz": -60
    },
    "id": "m8tLeoeGBSWI",
    "outputId": "07dfe76e-434b-45c9-9a4c-08f539ed957b"
   },
   "outputs": [],
   "source": [
    "#Clone YOLOv7 repository\n",
    "#!git clone https://github.com/WongKinYiu/yolov7.git"
   ]
  },
  {
   "cell_type": "code",
   "execution_count": 4,
   "metadata": {
    "id": "lGUY8tFgLhm7"
   },
   "outputs": [],
   "source": [
    "#sample_sizes = [40,80,160,240]\n",
    "sample_sizes = [10]\n",
    "n_experiments = 5"
   ]
  },
  {
   "cell_type": "code",
   "execution_count": 5,
   "metadata": {
    "colab": {
     "base_uri": "https://localhost:8080/"
    },
    "id": "O0u4WydpVrBW",
    "outputId": "e8f972f8-9fe4-42ec-a88a-cc3aaa9c76c3"
   },
   "outputs": [],
   "source": [
    "main_path = \"/Users/joulevoelz/Documents/github/pigeon-detector/code\"\n",
    "dataset_path = main_path + \"/bird_dataset\"\n",
    "all_images_dir = 'all-labels-and-images/all-images'\n",
    "all_labels_dir = 'all-labels-and-images/all-labels'\n",
    "\n",
    "os.chdir(dataset_path)"
   ]
  },
  {
   "cell_type": "code",
   "execution_count": 9,
   "metadata": {},
   "outputs": [
    {
     "data": {
      "text/plain": [
       "[]"
      ]
     },
     "execution_count": 9,
     "metadata": {},
     "output_type": "execute_result"
    }
   ],
   "source": [
    "list_files(\"images\")"
   ]
  },
  {
   "cell_type": "code",
   "execution_count": 10,
   "metadata": {},
   "outputs": [],
   "source": [
    "put_files_back(dataset_path, all_images_dir, all_labels_dir)"
   ]
  },
  {
   "cell_type": "code",
   "execution_count": 17,
   "metadata": {},
   "outputs": [
    {
     "name": "stdout",
     "output_type": "stream",
     "text": [
      "\n",
      " Sample size: 10, Run number: 0\n",
      "\n",
      "\n",
      " Sample size: 10, Run number: 1\n",
      "\n",
      "\n",
      " Sample size: 10, Run number: 2\n",
      "\n",
      "\n",
      " Sample size: 10, Run number: 3\n",
      "\n",
      "\n",
      " Sample size: 10, Run number: 4\n",
      "\n"
     ]
    }
   ],
   "source": [
    "put_files_back(dataset_path, all_images_dir, all_labels_dir)\n",
    "\n",
    "for sample_size in sample_sizes:\n",
    "    \n",
    "    for experiment in range(n_experiments):\n",
    "        \n",
    "        print(\"\\n Sample size: \" + str(sample_size) + \", Run number: \" + str(experiment) + \"\\n\")\n",
    "        \n",
    "        os.chdir(dataset_path)\n",
    "        images = list_files(all_images_dir)\n",
    "        labels = list_files(all_labels_dir)\n",
    "        images.sort()\n",
    "        labels.sort()\n",
    "        selection = random.sample(range(len(images)), k = sample_size)\n",
    "        selection.sort()\n",
    "        selected_images = [images[i] for i in selection]\n",
    "        selected_labels = [labels[i] for i in selection]\n",
    "        train_images, val_images, train_labels, val_labels = train_test_split(selected_images, selected_labels, test_size = 0.2, random_state = 1)\n",
    "        val_images, test_images, val_labels, test_labels = train_test_split(val_images, val_labels, test_size = 0.5, random_state = 1)\n",
    "\n",
    "        move_files_to_folder(train_labels, 'labels/train')\n",
    "        move_files_to_folder(val_labels, 'labels/val')\n",
    "        move_files_to_folder(test_labels, 'labels/test')\n",
    "        move_files_to_folder(train_images, 'images/train')\n",
    "        move_files_to_folder(val_images, 'images/val')\n",
    "        move_files_to_folder(test_images, 'images/test')\n",
    "\n",
    "        train_output_location = f\"sample_size_{sample_size}_run_{experiment}\"\n",
    "        train_output_weight_location = f\"runs/train/{train_output_location}/weights/best.pt\"\n",
    "        test_output_location = f\"sample_size_{sample_size}_run_{experiment}\"\n",
    "\n",
    "        os.chdir(main_path)\n",
    "        #os.system(\"python train.py --img-size 640 --cfg cfg/training/yolov7.yaml --hyp data/hyp.scratch.custom_birds.yaml --batch 8 --epochs 100 --data data/bird_data.yaml --weights yolov7.pt --workers 24 --name $train_output_location\")\n",
    "        #os.system(\"python test.py --weights $train_output_weight_location --data data/bird_data.yaml --task test --name $test_output_location\")\n",
    "        \n",
    "        put_files_back(dataset_path, all_images_dir, all_labels_dir)"
   ]
  },
  {
   "cell_type": "code",
   "execution_count": null,
   "metadata": {},
   "outputs": [],
   "source": [
    "put_files_back(dataset_path, all_images_dir, all_labels_dir)"
   ]
  },
  {
   "cell_type": "code",
   "execution_count": null,
   "metadata": {
    "colab": {
     "base_uri": "https://localhost:8080/"
    },
    "executionInfo": {
     "elapsed": 338,
     "status": "ok",
     "timestamp": 1678898111750,
     "user": {
      "displayName": "Dominik Johannes Wielath",
      "userId": "13486057424269169779"
     },
     "user_tz": -60
    },
    "id": "Yb07_6luRfo8",
    "outputId": "87cb68c7-d665-4454-e151-625e710e211a"
   },
   "outputs": [],
   "source": [
    "put_files_back()"
   ]
  }
 ],
 "metadata": {
  "accelerator": "GPU",
  "colab": {
   "collapsed_sections": [
    "t3nllolzAtjK",
    "LAFaWWIQj0X7",
    "ouhBCbo0OPJp",
    "NPj6HRZ-xNGn"
   ],
   "provenance": []
  },
  "gpuClass": "standard",
  "kernelspec": {
   "display_name": "Python 3 (ipykernel)",
   "language": "python",
   "name": "python3"
  },
  "language_info": {
   "codemirror_mode": {
    "name": "ipython",
    "version": 3
   },
   "file_extension": ".py",
   "mimetype": "text/x-python",
   "name": "python",
   "nbconvert_exporter": "python",
   "pygments_lexer": "ipython3",
   "version": "3.9.7"
  }
 },
 "nbformat": 4,
 "nbformat_minor": 1
}
